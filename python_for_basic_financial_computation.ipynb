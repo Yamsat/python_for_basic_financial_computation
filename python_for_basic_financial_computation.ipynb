{
 "cells": [
  {
   "cell_type": "code",
   "execution_count": 1,
   "id": "4dd083fc",
   "metadata": {},
   "outputs": [],
   "source": [
    "import pandas as pd\n",
    "import numpy as np\n",
    "import datetime as dt\n",
    "import matplotlib.pyplot as plt\n",
    "import yahoo_fin.stock_info as si\n",
    "import pandas_datareader as web\n",
    "from sklearn.linear_model import LinearRegression "
   ]
  },
  {
   "cell_type": "code",
   "execution_count": 2,
   "id": "1754a74a",
   "metadata": {},
   "outputs": [],
   "source": [
    "symbols = ['CBA.AX', 'APT.AX', 'REA.AX', 'BHP.AX']"
   ]
  },
  {
   "cell_type": "code",
   "execution_count": 3,
   "id": "f219300e",
   "metadata": {},
   "outputs": [],
   "source": [
    "total_liab = []\n",
    "total_asset = []\n",
    "total_rev = []\n",
    "net_income = []"
   ]
  },
  {
   "cell_type": "code",
   "execution_count": 5,
   "id": "6131b52c",
   "metadata": {},
   "outputs": [],
   "source": [
    "for x in symbols:\n",
    "    bs_idx = list(si.get_balance_sheet(x).index)\n",
    "    pl_idx = list(si.get_income_statement(x).index)\n",
    "    for i in bs_idx:\n",
    "        if i == 'totalLiab':\n",
    "            total_liab.append(si.get_balance_sheet(x).iloc[bs_idx.index(i),0])\n",
    "        elif i == 'totalAssets':\n",
    "            total_asset.append(si.get_balance_sheet(x).iloc[bs_idx.index(i),0])\n",
    "    for j in pl_idx:\n",
    "        if j == 'netIncome':\n",
    "            net_income.append(si.get_income_statement(x).iloc[pl_idx.index(j),0])\n",
    "        elif j == 'totalRevenue':\n",
    "            total_rev.append(si.get_income_statement(x).iloc[pl_idx.index(j),0])"
   ]
  },
  {
   "cell_type": "code",
   "execution_count": 6,
   "id": "f167ee55",
   "metadata": {},
   "outputs": [
    {
     "data": {
      "text/plain": [
       "[1014060000000, 1608526000.0, 1590523000, 104783000000]"
      ]
     },
     "execution_count": 6,
     "metadata": {},
     "output_type": "execute_result"
    }
   ],
   "source": [
    "total_asset"
   ]
  },
  {
   "cell_type": "code",
   "execution_count": 7,
   "id": "c44deede",
   "metadata": {},
   "outputs": [
    {
     "data": {
      "text/plain": [
       "[942047000000, 662175000.0, 726030000, 52537000000]"
      ]
     },
     "execution_count": 7,
     "metadata": {},
     "output_type": "execute_result"
    }
   ],
   "source": [
    "total_liab"
   ]
  },
  {
   "cell_type": "code",
   "execution_count": 8,
   "id": "76c86acd",
   "metadata": {},
   "outputs": [
    {
     "data": {
      "text/plain": [
       "[21500000000, 476555000, 881857000, 42931000000]"
      ]
     },
     "execution_count": 8,
     "metadata": {},
     "output_type": "execute_result"
    }
   ],
   "source": [
    "total_rev"
   ]
  },
  {
   "cell_type": "code",
   "execution_count": 9,
   "id": "d406dace",
   "metadata": {},
   "outputs": [
    {
     "data": {
      "text/plain": [
       "[9634000000, -19780000, 112373000, 7956000000]"
      ]
     },
     "execution_count": 9,
     "metadata": {},
     "output_type": "execute_result"
    }
   ],
   "source": [
    "net_income"
   ]
  },
  {
   "cell_type": "code",
   "execution_count": 10,
   "id": "4ffa5cd7",
   "metadata": {},
   "outputs": [
    {
     "name": "stdout",
     "output_type": "stream",
     "text": [
      "[13.08162415  0.69971395  0.83983329  1.0055698 ]\n"
     ]
    },
    {
     "data": {
      "text/plain": [
       "<AxesSubplot:>"
      ]
     },
     "execution_count": 10,
     "metadata": {},
     "output_type": "execute_result"
    },
    {
     "data": {
      "image/png": "[encoded data removed]",
      "text/plain": [
       "<Figure size 432x288 with 1 Axes>"
      ]
     },
     "metadata": {
      "needs_background": "light"
     },
     "output_type": "display_data"
    }
   ],
   "source": [
    "#Leverage Ratio\n",
    "leverage = np.array(total_liab)/ (np.array(total_asset) - np.array(total_liab))\n",
    "print(leverage)\n",
    "pd.Series(leverage, index=symbols).plot(kind='bar')"
   ]
  },
  {
   "cell_type": "code",
   "execution_count": 10,
   "id": "075088b2",
   "metadata": {},
   "outputs": [
    {
     "data": {
      "text/plain": [
       "<AxesSubplot:>"
      ]
     },
     "execution_count": 10,
     "metadata": {},
     "output_type": "execute_result"
    },
    {
     "data": {
      "image/png": "[encoded data removed]",
      "text/plain": [
       "<Figure size 432x288 with 1 Axes>"
      ]
     },
     "metadata": {
      "needs_background": "light"
     },
     "output_type": "display_data"
    }
   ],
   "source": [
    "#Asset Turnover Ratio\n",
    "total_asset_trnovr = (np.array(total_rev) / np.array(total_asset)) * 100\n",
    "pd.Series(total_asset_trnovr, index=symbols).plot(kind='bar')"
   ]
  },
  {
   "cell_type": "code",
   "execution_count": 11,
   "id": "fadfbaa6",
   "metadata": {},
   "outputs": [
    {
     "data": {
      "text/plain": [
       "<AxesSubplot:>"
      ]
     },
     "execution_count": 11,
     "metadata": {},
     "output_type": "execute_result"
    },
    {
     "data": {
      "image/png": "[encoded data removed]",
      "text/plain": [
       "<Figure size 432x288 with 1 Axes>"
      ]
     },
     "metadata": {
      "needs_background": "light"
     },
     "output_type": "display_data"
    }
   ],
   "source": [
    "#Net Profit Margin\n",
    "net_prof_mrgn = (np.array(net_income) / np.array(total_rev)) * 100\n",
    "pd.Series(net_prof_mrgn, index=symbols).plot(kind='bar')"
   ]
  },
  {
   "cell_type": "code",
   "execution_count": 12,
   "id": "fe108d3a",
   "metadata": {},
   "outputs": [
    {
     "data": {
      "text/plain": [
       "<AxesSubplot:>"
      ]
     },
     "execution_count": 12,
     "metadata": {},
     "output_type": "execute_result"
    },
    {
     "data": {
      "image/png": "[encoded data removed]",
      "text/plain": [
       "<Figure size 432x288 with 1 Axes>"
      ]
     },
     "metadata": {
      "needs_background": "light"
     },
     "output_type": "display_data"
    }
   ],
   "source": [
    "#ROE\n",
    "roe = (np.array(net_income) / (np.array(total_asset) - np.array(total_liab))) * 100\n",
    "pd.Series(roe, index=symbols).plot(kind='bar')"
   ]
  },
  {
   "cell_type": "code",
   "execution_count": 14,
   "id": "285c1754",
   "metadata": {},
   "outputs": [
    {
     "data": {
      "text/plain": [
       "<AxesSubplot:>"
      ]
     },
     "execution_count": 14,
     "metadata": {},
     "output_type": "execute_result"
    },
    {
     "data": {
      "image/png": "[encoded data removed]",
      "text/plain": [
       "<Figure size 432x288 with 1 Axes>"
      ]
     },
     "metadata": {
      "needs_background": "light"
     },
     "output_type": "display_data"
    }
   ],
   "source": [
    "#Dividend Yield\n",
    "div_yld = []\n",
    "current = dt.datetime.today() - dt.timedelta(days=365)\n",
    "for x in symbols:\n",
    "    try:\n",
    "        d = si.get_dividends(x)\n",
    "        d = d.loc[d.index >= current,'dividend'].sum()\n",
    "        p = si.get_live_price(x)\n",
    "        div_yld.append((d/p).round(4)*100)\n",
    "    except:\n",
    "        div_yld.append(0)\n",
    "        \n",
    "pd.Series(div_yld, index=symbols).plot(kind='bar')"
   ]
  },
  {
   "cell_type": "code",
   "execution_count": 17,
   "id": "bc414220",
   "metadata": {},
   "outputs": [
    {
     "ename": "RemoteDataError",
     "evalue": "No data fetched using 'YahooDailyReader'",
     "output_type": "error",
     "traceback": [
      "\u001b[1;31m---------------------------------------------------------------------------\u001b[0m",
      "\u001b[1;31mRemoteDataError\u001b[0m                           Traceback (most recent call last)",
      "\u001b[1;32m<ipython-input-17-dc7db4d226b1>\u001b[0m in \u001b[0;36m<module>\u001b[1;34m\u001b[0m\n\u001b[0;32m      2\u001b[0m \u001b[0mend\u001b[0m \u001b[1;33m=\u001b[0m \u001b[0mdt\u001b[0m\u001b[1;33m.\u001b[0m\u001b[0mdatetime\u001b[0m\u001b[1;33m.\u001b[0m\u001b[0mtoday\u001b[0m\u001b[1;33m(\u001b[0m\u001b[1;33m)\u001b[0m\u001b[1;33m\u001b[0m\u001b[1;33m\u001b[0m\u001b[0m\n\u001b[0;32m      3\u001b[0m \u001b[0mstart\u001b[0m \u001b[1;33m=\u001b[0m \u001b[0mend\u001b[0m \u001b[1;33m-\u001b[0m \u001b[0mdt\u001b[0m\u001b[1;33m.\u001b[0m\u001b[0mtimedelta\u001b[0m\u001b[1;33m(\u001b[0m\u001b[0mdays\u001b[0m\u001b[1;33m=\u001b[0m\u001b[1;36m365\u001b[0m\u001b[1;33m)\u001b[0m\u001b[1;33m\u001b[0m\u001b[1;33m\u001b[0m\u001b[0m\n\u001b[1;32m----> 4\u001b[1;33m \u001b[0mstocks\u001b[0m \u001b[1;33m=\u001b[0m \u001b[0mweb\u001b[0m\u001b[1;33m.\u001b[0m\u001b[0mget_data_yahoo\u001b[0m\u001b[1;33m(\u001b[0m\u001b[0msymbols\u001b[0m\u001b[1;33m,\u001b[0m \u001b[0mstart\u001b[0m\u001b[1;33m=\u001b[0m\u001b[0mstart\u001b[0m\u001b[1;33m,\u001b[0m \u001b[0mend\u001b[0m\u001b[1;33m=\u001b[0m\u001b[0mend\u001b[0m\u001b[1;33m)\u001b[0m\u001b[1;33m\u001b[0m\u001b[1;33m\u001b[0m\u001b[0m\n\u001b[0m\u001b[0;32m      5\u001b[0m \u001b[0mstocks\u001b[0m \u001b[1;33m=\u001b[0m \u001b[0mstocks\u001b[0m\u001b[1;33m[\u001b[0m\u001b[1;34m'Adj Close'\u001b[0m\u001b[1;33m]\u001b[0m\u001b[1;33m\u001b[0m\u001b[1;33m\u001b[0m\u001b[0m\n\u001b[0;32m      6\u001b[0m \u001b[0mreturns\u001b[0m \u001b[1;33m=\u001b[0m \u001b[0mstocks\u001b[0m\u001b[1;33m.\u001b[0m\u001b[0mpct_change\u001b[0m\u001b[1;33m(\u001b[0m\u001b[1;33m)\u001b[0m\u001b[1;33m.\u001b[0m\u001b[0mmean\u001b[0m\u001b[1;33m(\u001b[0m\u001b[1;33m)\u001b[0m\u001b[1;33m*\u001b[0m\u001b[1;36m100\u001b[0m\u001b[1;33m\u001b[0m\u001b[1;33m\u001b[0m\u001b[0m\n",
      "\u001b[1;32m~\\miniconda3\\envs\\env_python_old_ver\\lib\\site-packages\\pandas_datareader\\data.py\u001b[0m in \u001b[0;36mget_data_yahoo\u001b[1;34m(*args, **kwargs)\u001b[0m\n\u001b[0;32m     84\u001b[0m \u001b[1;33m\u001b[0m\u001b[0m\n\u001b[0;32m     85\u001b[0m \u001b[1;32mdef\u001b[0m \u001b[0mget_data_yahoo\u001b[0m\u001b[1;33m(\u001b[0m\u001b[1;33m*\u001b[0m\u001b[0margs\u001b[0m\u001b[1;33m,\u001b[0m \u001b[1;33m**\u001b[0m\u001b[0mkwargs\u001b[0m\u001b[1;33m)\u001b[0m\u001b[1;33m:\u001b[0m\u001b[1;33m\u001b[0m\u001b[1;33m\u001b[0m\u001b[0m\n\u001b[1;32m---> 86\u001b[1;33m     \u001b[1;32mreturn\u001b[0m \u001b[0mYahooDailyReader\u001b[0m\u001b[1;33m(\u001b[0m\u001b[1;33m*\u001b[0m\u001b[0margs\u001b[0m\u001b[1;33m,\u001b[0m \u001b[1;33m**\u001b[0m\u001b[0mkwargs\u001b[0m\u001b[1;33m)\u001b[0m\u001b[1;33m.\u001b[0m\u001b[0mread\u001b[0m\u001b[1;33m(\u001b[0m\u001b[1;33m)\u001b[0m\u001b[1;33m\u001b[0m\u001b[1;33m\u001b[0m\u001b[0m\n\u001b[0m\u001b[0;32m     87\u001b[0m \u001b[1;33m\u001b[0m\u001b[0m\n\u001b[0;32m     88\u001b[0m \u001b[1;33m\u001b[0m\u001b[0m\n",
      "\u001b[1;32m~\\miniconda3\\envs\\env_python_old_ver\\lib\\site-packages\\pandas_datareader\\base.py\u001b[0m in \u001b[0;36mread\u001b[1;34m(self)\u001b[0m\n\u001b[0;32m    256\u001b[0m             \u001b[0mdf\u001b[0m \u001b[1;33m=\u001b[0m \u001b[0mself\u001b[0m\u001b[1;33m.\u001b[0m\u001b[0m_dl_mult_symbols\u001b[0m\u001b[1;33m(\u001b[0m\u001b[0mself\u001b[0m\u001b[1;33m.\u001b[0m\u001b[0msymbols\u001b[0m\u001b[1;33m.\u001b[0m\u001b[0mindex\u001b[0m\u001b[1;33m)\u001b[0m\u001b[1;33m\u001b[0m\u001b[1;33m\u001b[0m\u001b[0m\n\u001b[0;32m    257\u001b[0m         \u001b[1;32melse\u001b[0m\u001b[1;33m:\u001b[0m\u001b[1;33m\u001b[0m\u001b[1;33m\u001b[0m\u001b[0m\n\u001b[1;32m--> 258\u001b[1;33m             \u001b[0mdf\u001b[0m \u001b[1;33m=\u001b[0m \u001b[0mself\u001b[0m\u001b[1;33m.\u001b[0m\u001b[0m_dl_mult_symbols\u001b[0m\u001b[1;33m(\u001b[0m\u001b[0mself\u001b[0m\u001b[1;33m.\u001b[0m\u001b[0msymbols\u001b[0m\u001b[1;33m)\u001b[0m\u001b[1;33m\u001b[0m\u001b[1;33m\u001b[0m\u001b[0m\n\u001b[0m\u001b[0;32m    259\u001b[0m         \u001b[1;32mreturn\u001b[0m \u001b[0mdf\u001b[0m\u001b[1;33m\u001b[0m\u001b[1;33m\u001b[0m\u001b[0m\n\u001b[0;32m    260\u001b[0m \u001b[1;33m\u001b[0m\u001b[0m\n",
      "\u001b[1;32m~\\miniconda3\\envs\\env_python_old_ver\\lib\\site-packages\\pandas_datareader\\base.py\u001b[0m in \u001b[0;36m_dl_mult_symbols\u001b[1;34m(self, symbols)\u001b[0m\n\u001b[0;32m    275\u001b[0m         \u001b[1;32mif\u001b[0m \u001b[0mlen\u001b[0m\u001b[1;33m(\u001b[0m\u001b[0mpassed\u001b[0m\u001b[1;33m)\u001b[0m \u001b[1;33m==\u001b[0m \u001b[1;36m0\u001b[0m\u001b[1;33m:\u001b[0m\u001b[1;33m\u001b[0m\u001b[1;33m\u001b[0m\u001b[0m\n\u001b[0;32m    276\u001b[0m             \u001b[0mmsg\u001b[0m \u001b[1;33m=\u001b[0m \u001b[1;34m\"No data fetched using {0!r}\"\u001b[0m\u001b[1;33m\u001b[0m\u001b[1;33m\u001b[0m\u001b[0m\n\u001b[1;32m--> 277\u001b[1;33m             \u001b[1;32mraise\u001b[0m \u001b[0mRemoteDataError\u001b[0m\u001b[1;33m(\u001b[0m\u001b[0mmsg\u001b[0m\u001b[1;33m.\u001b[0m\u001b[0mformat\u001b[0m\u001b[1;33m(\u001b[0m\u001b[0mself\u001b[0m\u001b[1;33m.\u001b[0m\u001b[0m__class__\u001b[0m\u001b[1;33m.\u001b[0m\u001b[0m__name__\u001b[0m\u001b[1;33m)\u001b[0m\u001b[1;33m)\u001b[0m\u001b[1;33m\u001b[0m\u001b[1;33m\u001b[0m\u001b[0m\n\u001b[0m\u001b[0;32m    278\u001b[0m         \u001b[1;32mtry\u001b[0m\u001b[1;33m:\u001b[0m\u001b[1;33m\u001b[0m\u001b[1;33m\u001b[0m\u001b[0m\n\u001b[0;32m    279\u001b[0m             \u001b[1;32mif\u001b[0m \u001b[0mlen\u001b[0m\u001b[1;33m(\u001b[0m\u001b[0mstocks\u001b[0m\u001b[1;33m)\u001b[0m \u001b[1;33m>\u001b[0m \u001b[1;36m0\u001b[0m \u001b[1;32mand\u001b[0m \u001b[0mlen\u001b[0m\u001b[1;33m(\u001b[0m\u001b[0mfailed\u001b[0m\u001b[1;33m)\u001b[0m \u001b[1;33m>\u001b[0m \u001b[1;36m0\u001b[0m \u001b[1;32mand\u001b[0m \u001b[0mlen\u001b[0m\u001b[1;33m(\u001b[0m\u001b[0mpassed\u001b[0m\u001b[1;33m)\u001b[0m \u001b[1;33m>\u001b[0m \u001b[1;36m0\u001b[0m\u001b[1;33m:\u001b[0m\u001b[1;33m\u001b[0m\u001b[1;33m\u001b[0m\u001b[0m\n",
      "\u001b[1;31mRemoteDataError\u001b[0m: No data fetched using 'YahooDailyReader'"
     ]
    }
   ],
   "source": [
    "#Average Return\n",
    "end = dt.datetime.today()\n",
    "start = end - dt.timedelta(days=365)\n",
    "stocks = web.get_data_yahoo(symbols, start=start, end=end)\n",
    "stocks = stocks['Adj Close']\n",
    "returns = stocks.pct_change().mean()*100\n",
    "returns.plot(kind='bar')"
   ]
  },
  {
   "cell_type": "markdown",
   "id": "eacc0ca2",
   "metadata": {},
   "source": [
    "年間リターン"
   ]
  },
  {
   "cell_type": "code",
   "execution_count": 26,
   "id": "27f22f25",
   "metadata": {},
   "outputs": [
    {
     "data": {
      "text/plain": [
       "Symbols\n",
       "CBA.AX    0.502909\n",
       "APT.AX    1.096661\n",
       "REA.AX    0.611952\n",
       "BHP.AX    0.432274\n",
       "Name: 2021-06-28 00:00:00, dtype: float64"
      ]
     },
     "execution_count": 26,
     "metadata": {},
     "output_type": "execute_result"
    }
   ],
   "source": [
    "returns = stocks.pct_change()\n",
    "cum_rets = (returns + 1).cumprod()\n",
    "annu_rets = (cum_rets.iloc[-1] - 1)\n",
    "annu_rets"
   ]
  },
  {
   "cell_type": "code",
   "execution_count": 27,
   "id": "34f91388",
   "metadata": {},
   "outputs": [
    {
     "data": {
      "text/plain": [
       "<AxesSubplot:xlabel='Symbols'>"
      ]
     },
     "execution_count": 27,
     "metadata": {},
     "output_type": "execute_result"
    },
    {
     "data": {
      "image/png": "[encoded data removed]",
      "text/plain": [
       "<Figure size 432x288 with 1 Axes>"
      ]
     },
     "metadata": {
      "needs_background": "light"
     },
     "output_type": "display_data"
    }
   ],
   "source": [
    "annu_rets.plot(kind='bar')"
   ]
  },
  {
   "cell_type": "code",
   "execution_count": 18,
   "id": "ae8dc60a",
   "metadata": {},
   "outputs": [
    {
     "data": {
      "text/plain": [
       "Symbols\n",
       "CBA.AX    0.429174\n",
       "APT.AX    0.912255\n",
       "REA.AX    0.519840\n",
       "BHP.AX    0.396299\n",
       "Name: 2021-06-28 00:00:00, dtype: float64"
      ]
     },
     "execution_count": 18,
     "metadata": {},
     "output_type": "execute_result"
    }
   ],
   "source": [
    "#毎日のリターンの合計しても年間のリターンにはならない　→　ログリターンの合計を用いる\n",
    "cum_rets = returns.cumsum() \n",
    "cum_rets.iloc[-1]"
   ]
  },
  {
   "cell_type": "code",
   "execution_count": 20,
   "id": "d432af4b",
   "metadata": {},
   "outputs": [
    {
     "data": {
      "text/plain": [
       "Symbols\n",
       "CBA.AX    0.502909\n",
       "APT.AX    1.096661\n",
       "REA.AX    0.611952\n",
       "BHP.AX    0.432274\n",
       "Name: 2021-06-28 00:00:00, dtype: float64"
      ]
     },
     "execution_count": 20,
     "metadata": {},
     "output_type": "execute_result"
    }
   ],
   "source": [
    "returns = np.log(stocks/stocks.shift(1))\n",
    "#.apply(np.exp)を忘れないように\n",
    "cum_rets = returns.cumsum().apply(np.exp)\n",
    "cum_rets.iloc[-1] - 1"
   ]
  },
  {
   "cell_type": "code",
   "execution_count": 21,
   "id": "a0fbe18a",
   "metadata": {},
   "outputs": [
    {
     "data": {
      "text/plain": [
       "Symbols\n",
       "CBA.AX    0.502909\n",
       "APT.AX    1.096661\n",
       "REA.AX    0.611952\n",
       "BHP.AX    0.432274\n",
       "dtype: float64"
      ]
     },
     "execution_count": 21,
     "metadata": {},
     "output_type": "execute_result"
    }
   ],
   "source": [
    "(stocks.iloc[-1]/stocks.iloc[0]) - 1"
   ]
  },
  {
   "cell_type": "markdown",
   "id": "82cc54ee",
   "metadata": {},
   "source": [
    "ボラティリティ"
   ]
  },
  {
   "cell_type": "code",
   "execution_count": 24,
   "id": "14db33e6",
   "metadata": {},
   "outputs": [
    {
     "data": {
      "text/plain": [
       "<AxesSubplot:xlabel='Symbols'>"
      ]
     },
     "execution_count": 24,
     "metadata": {},
     "output_type": "execute_result"
    },
    {
     "data": {
      "image/png": "[encoded data removed]",
      "text/plain": [
       "<Figure size 432x288 with 1 Axes>"
      ]
     },
     "metadata": {
      "needs_background": "light"
     },
     "output_type": "display_data"
    }
   ],
   "source": [
    "#年率換算する場合は365の平方根を掛ける\n",
    "vola = returns.std()*(365**0.5)\n",
    "vola.plot(kind='bar')"
   ]
  },
  {
   "cell_type": "markdown",
   "id": "1f1fb755",
   "metadata": {},
   "source": [
    "相関係数"
   ]
  },
  {
   "cell_type": "code",
   "execution_count": 24,
   "id": "7944be44",
   "metadata": {},
   "outputs": [
    {
     "data": {
      "text/html": [
       "<div>\n",
       "<style scoped>\n",
       "    .dataframe tbody tr th:only-of-type {\n",
       "        vertical-align: middle;\n",
       "    }\n",
       "\n",
       "    .dataframe tbody tr th {\n",
       "        vertical-align: top;\n",
       "    }\n",
       "\n",
       "    .dataframe thead th {\n",
       "        text-align: right;\n",
       "    }\n",
       "</style>\n",
       "<table border=\"1\" class=\"dataframe\">\n",
       "  <thead>\n",
       "    <tr style=\"text-align: right;\">\n",
       "      <th>Symbols</th>\n",
       "      <th>CBA.AX</th>\n",
       "      <th>APT.AX</th>\n",
       "      <th>REA.AX</th>\n",
       "      <th>BHP.AX</th>\n",
       "    </tr>\n",
       "    <tr>\n",
       "      <th>Symbols</th>\n",
       "      <th></th>\n",
       "      <th></th>\n",
       "      <th></th>\n",
       "      <th></th>\n",
       "    </tr>\n",
       "  </thead>\n",
       "  <tbody>\n",
       "    <tr>\n",
       "      <th>CBA.AX</th>\n",
       "      <td>1.000000</td>\n",
       "      <td>0.176641</td>\n",
       "      <td>0.315979</td>\n",
       "      <td>0.402559</td>\n",
       "    </tr>\n",
       "    <tr>\n",
       "      <th>APT.AX</th>\n",
       "      <td>0.176641</td>\n",
       "      <td>1.000000</td>\n",
       "      <td>0.455543</td>\n",
       "      <td>0.107291</td>\n",
       "    </tr>\n",
       "    <tr>\n",
       "      <th>REA.AX</th>\n",
       "      <td>0.315979</td>\n",
       "      <td>0.455543</td>\n",
       "      <td>1.000000</td>\n",
       "      <td>0.232993</td>\n",
       "    </tr>\n",
       "    <tr>\n",
       "      <th>BHP.AX</th>\n",
       "      <td>0.402559</td>\n",
       "      <td>0.107291</td>\n",
       "      <td>0.232993</td>\n",
       "      <td>1.000000</td>\n",
       "    </tr>\n",
       "  </tbody>\n",
       "</table>\n",
       "</div>"
      ],
      "text/plain": [
       "Symbols    CBA.AX    APT.AX    REA.AX    BHP.AX\n",
       "Symbols                                        \n",
       "CBA.AX   1.000000  0.176641  0.315979  0.402559\n",
       "APT.AX   0.176641  1.000000  0.455543  0.107291\n",
       "REA.AX   0.315979  0.455543  1.000000  0.232993\n",
       "BHP.AX   0.402559  0.107291  0.232993  1.000000"
      ]
     },
     "execution_count": 24,
     "metadata": {},
     "output_type": "execute_result"
    }
   ],
   "source": [
    "corrcoef = returns.corr()\n",
    "corrcoef"
   ]
  },
  {
   "cell_type": "markdown",
   "id": "1d74cbcd",
   "metadata": {},
   "source": [
    "最大ドローダウン"
   ]
  },
  {
   "cell_type": "code",
   "execution_count": 25,
   "id": "c2c130ed",
   "metadata": {},
   "outputs": [
    {
     "data": {
      "text/plain": [
       "[-15.233135158078825,\n",
       " -58.61291282622256,\n",
       " -18.701205165819268,\n",
       " -14.75117624057799]"
      ]
     },
     "execution_count": 25,
     "metadata": {},
     "output_type": "execute_result"
    }
   ],
   "source": [
    "max_dd = []\n",
    "for x in symbols:\n",
    "    price = web.get_data_yahoo(x, start=start, end=end)['Adj Close']\n",
    "    cum_ret = price.pct_change().cumsum().dropna() #リターンの累積和\n",
    "    trough = (np.maximum.accumulate(cum_ret) - cum_ret).idxmax()\n",
    "    peak = cum_ret[:trough].idxmax()\n",
    "    dd = (cum_ret[trough] - cum_ret[peak]) * 100\n",
    "    max_dd.append(dd)\n",
    "max_dd"
   ]
  },
  {
   "cell_type": "code",
   "execution_count": 30,
   "id": "bb1dea38",
   "metadata": {},
   "outputs": [
    {
     "data": {
      "text/plain": [
       "[-14.378408165493884,\n",
       " -46.677605004674795,\n",
       " -17.3572381944608,\n",
       " -11.69409629639806]"
      ]
     },
     "execution_count": 30,
     "metadata": {},
     "output_type": "execute_result"
    }
   ],
   "source": [
    "max_dd = []\n",
    "for x in symbols:\n",
    "    price = web.get_data_yahoo(x, start=start, end=end)['Adj Close']\n",
    "    trough = (np.maximum.accumulate(price) - price).idxmax() #価格\n",
    "    peak = price[:trough].idxmax()\n",
    "    dd = (price[trough] / price[peak] - 1) * 100\n",
    "    max_dd.append(dd)\n",
    "max_dd"
   ]
  },
  {
   "cell_type": "markdown",
   "id": "6ba8f671",
   "metadata": {},
   "source": [
    "主要データの比較"
   ]
  },
  {
   "cell_type": "code",
   "execution_count": 28,
   "id": "84676260",
   "metadata": {},
   "outputs": [
    {
     "data": {
      "text/html": [
       "<div>\n",
       "<style scoped>\n",
       "    .dataframe tbody tr th:only-of-type {\n",
       "        vertical-align: middle;\n",
       "    }\n",
       "\n",
       "    .dataframe tbody tr th {\n",
       "        vertical-align: top;\n",
       "    }\n",
       "\n",
       "    .dataframe thead th {\n",
       "        text-align: right;\n",
       "    }\n",
       "</style>\n",
       "<table border=\"1\" class=\"dataframe\">\n",
       "  <thead>\n",
       "    <tr style=\"text-align: right;\">\n",
       "      <th></th>\n",
       "      <th>CBA.AX</th>\n",
       "      <th>APT.AX</th>\n",
       "      <th>REA.AX</th>\n",
       "      <th>BHP.AX</th>\n",
       "    </tr>\n",
       "    <tr>\n",
       "      <th>Attribute</th>\n",
       "      <th></th>\n",
       "      <th></th>\n",
       "      <th></th>\n",
       "      <th></th>\n",
       "    </tr>\n",
       "  </thead>\n",
       "  <tbody>\n",
       "    <tr>\n",
       "      <th>Beta (5Y Monthly)</th>\n",
       "      <td>0.68</td>\n",
       "      <td>1.97</td>\n",
       "      <td>1.01</td>\n",
       "      <td>0.84</td>\n",
       "    </tr>\n",
       "    <tr>\n",
       "      <th>52-Week Change 3</th>\n",
       "      <td>42.05%</td>\n",
       "      <td>98.09%</td>\n",
       "      <td>48.65%</td>\n",
       "      <td>27.97%</td>\n",
       "    </tr>\n",
       "    <tr>\n",
       "      <th>S&amp;P500 52-Week Change 3</th>\n",
       "      <td>33.06%</td>\n",
       "      <td>33.06%</td>\n",
       "      <td>33.06%</td>\n",
       "      <td>33.06%</td>\n",
       "    </tr>\n",
       "    <tr>\n",
       "      <th>52 Week High 3</th>\n",
       "      <td>106.57</td>\n",
       "      <td>160.05</td>\n",
       "      <td>173.11</td>\n",
       "      <td>51.82</td>\n",
       "    </tr>\n",
       "    <tr>\n",
       "      <th>52 Week Low 3</th>\n",
       "      <td>62.64</td>\n",
       "      <td>55.30</td>\n",
       "      <td>102.60</td>\n",
       "      <td>33.73</td>\n",
       "    </tr>\n",
       "    <tr>\n",
       "      <th>50-Day Moving Average 3</th>\n",
       "      <td>98.55</td>\n",
       "      <td>97.14</td>\n",
       "      <td>159.75</td>\n",
       "      <td>48.64</td>\n",
       "    </tr>\n",
       "    <tr>\n",
       "      <th>200-Day Moving Average 3</th>\n",
       "      <td>88.71</td>\n",
       "      <td>116.31</td>\n",
       "      <td>150.31</td>\n",
       "      <td>46.50</td>\n",
       "    </tr>\n",
       "    <tr>\n",
       "      <th>Avg Vol (3 month) 3</th>\n",
       "      <td>2.38M</td>\n",
       "      <td>1.47M</td>\n",
       "      <td>155.24k</td>\n",
       "      <td>5.32M</td>\n",
       "    </tr>\n",
       "    <tr>\n",
       "      <th>Avg Vol (10 day) 3</th>\n",
       "      <td>4.44M</td>\n",
       "      <td>1.54M</td>\n",
       "      <td>253.6k</td>\n",
       "      <td>7.9M</td>\n",
       "    </tr>\n",
       "    <tr>\n",
       "      <th>Shares Outstanding 5</th>\n",
       "      <td>1.77B</td>\n",
       "      <td>290.67M</td>\n",
       "      <td>132.12M</td>\n",
       "      <td>2.94B</td>\n",
       "    </tr>\n",
       "    <tr>\n",
       "      <th>Implied Shares Outstanding 6</th>\n",
       "      <td>NaN</td>\n",
       "      <td>289.31M</td>\n",
       "      <td>132.03M</td>\n",
       "      <td>5.06B</td>\n",
       "    </tr>\n",
       "    <tr>\n",
       "      <th>Float</th>\n",
       "      <td>1.77B</td>\n",
       "      <td>216.26M</td>\n",
       "      <td>50.07M</td>\n",
       "      <td>5.01B</td>\n",
       "    </tr>\n",
       "    <tr>\n",
       "      <th>% Held by Insiders 1</th>\n",
       "      <td>0.41%</td>\n",
       "      <td>35.84%</td>\n",
       "      <td>62.23%</td>\n",
       "      <td>0.17%</td>\n",
       "    </tr>\n",
       "    <tr>\n",
       "      <th>% Held by Institutions 1</th>\n",
       "      <td>19.36%</td>\n",
       "      <td>35.00%</td>\n",
       "      <td>8.38%</td>\n",
       "      <td>23.47%</td>\n",
       "    </tr>\n",
       "    <tr>\n",
       "      <th>Shares Short 4</th>\n",
       "      <td>NaN</td>\n",
       "      <td>NaN</td>\n",
       "      <td>NaN</td>\n",
       "      <td>NaN</td>\n",
       "    </tr>\n",
       "    <tr>\n",
       "      <th>Short Ratio 4</th>\n",
       "      <td>NaN</td>\n",
       "      <td>NaN</td>\n",
       "      <td>NaN</td>\n",
       "      <td>NaN</td>\n",
       "    </tr>\n",
       "    <tr>\n",
       "      <th>Short % of Float 4</th>\n",
       "      <td>NaN</td>\n",
       "      <td>NaN</td>\n",
       "      <td>NaN</td>\n",
       "      <td>NaN</td>\n",
       "    </tr>\n",
       "    <tr>\n",
       "      <th>Short % of Shares Outstanding 4</th>\n",
       "      <td>NaN</td>\n",
       "      <td>NaN</td>\n",
       "      <td>NaN</td>\n",
       "      <td>NaN</td>\n",
       "    </tr>\n",
       "    <tr>\n",
       "      <th>Shares Short (prior month ) 4</th>\n",
       "      <td>NaN</td>\n",
       "      <td>NaN</td>\n",
       "      <td>NaN</td>\n",
       "      <td>NaN</td>\n",
       "    </tr>\n",
       "    <tr>\n",
       "      <th>Forward Annual Dividend Rate 4</th>\n",
       "      <td>2.48</td>\n",
       "      <td>NaN</td>\n",
       "      <td>1.18</td>\n",
       "      <td>2.07</td>\n",
       "    </tr>\n",
       "    <tr>\n",
       "      <th>Forward Annual Dividend Yield 4</th>\n",
       "      <td>2.53%</td>\n",
       "      <td>NaN</td>\n",
       "      <td>0.72%</td>\n",
       "      <td>4.33%</td>\n",
       "    </tr>\n",
       "    <tr>\n",
       "      <th>Trailing Annual Dividend Rate 3</th>\n",
       "      <td>2.48</td>\n",
       "      <td>NaN</td>\n",
       "      <td>1.14</td>\n",
       "      <td>1.56</td>\n",
       "    </tr>\n",
       "    <tr>\n",
       "      <th>Trailing Annual Dividend Yield 3</th>\n",
       "      <td>2.53%</td>\n",
       "      <td>NaN</td>\n",
       "      <td>0.69%</td>\n",
       "      <td>3.42%</td>\n",
       "    </tr>\n",
       "    <tr>\n",
       "      <th>5 Year Average Dividend Yield 4</th>\n",
       "      <td>5.31</td>\n",
       "      <td>NaN</td>\n",
       "      <td>1.21</td>\n",
       "      <td>4.18</td>\n",
       "    </tr>\n",
       "    <tr>\n",
       "      <th>Payout Ratio 4</th>\n",
       "      <td>81.09%</td>\n",
       "      <td>0.00%</td>\n",
       "      <td>104.96%</td>\n",
       "      <td>87.37%</td>\n",
       "    </tr>\n",
       "    <tr>\n",
       "      <th>Dividend Date 3</th>\n",
       "      <td>NaN</td>\n",
       "      <td>NaN</td>\n",
       "      <td>NaN</td>\n",
       "      <td>NaN</td>\n",
       "    </tr>\n",
       "    <tr>\n",
       "      <th>Ex-Dividend Date 4</th>\n",
       "      <td>Feb 16, 2021</td>\n",
       "      <td>NaN</td>\n",
       "      <td>Mar 08, 2021</td>\n",
       "      <td>Mar 04, 2021</td>\n",
       "    </tr>\n",
       "    <tr>\n",
       "      <th>Last Split Factor 2</th>\n",
       "      <td>1:1</td>\n",
       "      <td>NaN</td>\n",
       "      <td>1:1</td>\n",
       "      <td>2:1</td>\n",
       "    </tr>\n",
       "    <tr>\n",
       "      <th>Last Split Date 3</th>\n",
       "      <td>Oct 06, 1999</td>\n",
       "      <td>NaN</td>\n",
       "      <td>May 15, 2006</td>\n",
       "      <td>Jun 29, 2001</td>\n",
       "    </tr>\n",
       "    <tr>\n",
       "      <th>Fiscal Year Ends</th>\n",
       "      <td>Jun 30, 2020</td>\n",
       "      <td>Jun 30, 2020</td>\n",
       "      <td>Jun 30, 2020</td>\n",
       "      <td>Jun 30, 2020</td>\n",
       "    </tr>\n",
       "    <tr>\n",
       "      <th>Most Recent Quarter (mrq)</th>\n",
       "      <td>Dec 31, 2020</td>\n",
       "      <td>Dec 31, 2020</td>\n",
       "      <td>Dec 31, 2020</td>\n",
       "      <td>Dec 31, 2020</td>\n",
       "    </tr>\n",
       "    <tr>\n",
       "      <th>Profit Margin</th>\n",
       "      <td>39.36%</td>\n",
       "      <td>-10.04%</td>\n",
       "      <td>15.75%</td>\n",
       "      <td>15.05%</td>\n",
       "    </tr>\n",
       "    <tr>\n",
       "      <th>Operating Margin (ttm)</th>\n",
       "      <td>50.22%</td>\n",
       "      <td>4.28%</td>\n",
       "      <td>47.20%</td>\n",
       "      <td>37.63%</td>\n",
       "    </tr>\n",
       "    <tr>\n",
       "      <th>Return on Assets (ttm)</th>\n",
       "      <td>0.67%</td>\n",
       "      <td>1.02%</td>\n",
       "      <td>15.43%</td>\n",
       "      <td>10.59%</td>\n",
       "    </tr>\n",
       "    <tr>\n",
       "      <th>Return on Equity (ttm)</th>\n",
       "      <td>9.28%</td>\n",
       "      <td>-5.49%</td>\n",
       "      <td>13.49%</td>\n",
       "      <td>15.82%</td>\n",
       "    </tr>\n",
       "    <tr>\n",
       "      <th>Revenue (ttm)</th>\n",
       "      <td>21.21B</td>\n",
       "      <td>670.93M</td>\n",
       "      <td>877.4M</td>\n",
       "      <td>46.28B</td>\n",
       "    </tr>\n",
       "    <tr>\n",
       "      <th>Revenue Per Share (ttm)</th>\n",
       "      <td>11.99</td>\n",
       "      <td>2.45</td>\n",
       "      <td>6.66</td>\n",
       "      <td>9.15</td>\n",
       "    </tr>\n",
       "    <tr>\n",
       "      <th>Quarterly Revenue Growth (yoy)</th>\n",
       "      <td>-2.50%</td>\n",
       "      <td>103.50%</td>\n",
       "      <td>-0.90%</td>\n",
       "      <td>15.00%</td>\n",
       "    </tr>\n",
       "    <tr>\n",
       "      <th>Gross Profit (ttm)</th>\n",
       "      <td>21.5B</td>\n",
       "      <td>342.26M</td>\n",
       "      <td>630.07M</td>\n",
       "      <td>34.12B</td>\n",
       "    </tr>\n",
       "    <tr>\n",
       "      <th>EBITDA</th>\n",
       "      <td>NaN</td>\n",
       "      <td>40.81M</td>\n",
       "      <td>428.28M</td>\n",
       "      <td>23.1B</td>\n",
       "    </tr>\n",
       "    <tr>\n",
       "      <th>Net Income Avi to Common (ttm)</th>\n",
       "      <td>6.78B</td>\n",
       "      <td>-67.37M</td>\n",
       "      <td>138.15M</td>\n",
       "      <td>6.96B</td>\n",
       "    </tr>\n",
       "    <tr>\n",
       "      <th>Diluted EPS (ttm)</th>\n",
       "      <td>4.50</td>\n",
       "      <td>-0.25</td>\n",
       "      <td>1.05</td>\n",
       "      <td>1.79</td>\n",
       "    </tr>\n",
       "    <tr>\n",
       "      <th>Quarterly Earnings Growth (yoy)</th>\n",
       "      <td>-20.80%</td>\n",
       "      <td>NaN</td>\n",
       "      <td>17.50%</td>\n",
       "      <td>-20.40%</td>\n",
       "    </tr>\n",
       "    <tr>\n",
       "      <th>Total Cash (mrq)</th>\n",
       "      <td>117.14B</td>\n",
       "      <td>471.92M</td>\n",
       "      <td>179.85M</td>\n",
       "      <td>9.46B</td>\n",
       "    </tr>\n",
       "    <tr>\n",
       "      <th>Total Cash Per Share (mrq)</th>\n",
       "      <td>66.09</td>\n",
       "      <td>1.67</td>\n",
       "      <td>1.36</td>\n",
       "      <td>1.87</td>\n",
       "    </tr>\n",
       "    <tr>\n",
       "      <th>Total Debt (mrq)</th>\n",
       "      <td>241.28B</td>\n",
       "      <td>122.14M</td>\n",
       "      <td>324.06M</td>\n",
       "      <td>23.36B</td>\n",
       "    </tr>\n",
       "    <tr>\n",
       "      <th>Total Debt/Equity (mrq)</th>\n",
       "      <td>NaN</td>\n",
       "      <td>7.08</td>\n",
       "      <td>30.22</td>\n",
       "      <td>43.73</td>\n",
       "    </tr>\n",
       "    <tr>\n",
       "      <th>Current Ratio (mrq)</th>\n",
       "      <td>NaN</td>\n",
       "      <td>8.20</td>\n",
       "      <td>0.81</td>\n",
       "      <td>1.42</td>\n",
       "    </tr>\n",
       "    <tr>\n",
       "      <th>Book Value Per Share (mrq)</th>\n",
       "      <td>42.32</td>\n",
       "      <td>6.11</td>\n",
       "      <td>7.50</td>\n",
       "      <td>9.67</td>\n",
       "    </tr>\n",
       "    <tr>\n",
       "      <th>Operating Cash Flow (ttm)</th>\n",
       "      <td>-11.03B</td>\n",
       "      <td>-418.66M</td>\n",
       "      <td>381.48M</td>\n",
       "      <td>17.63B</td>\n",
       "    </tr>\n",
       "    <tr>\n",
       "      <th>Levered Free Cash Flow (ttm)</th>\n",
       "      <td>NaN</td>\n",
       "      <td>-393.02M</td>\n",
       "      <td>291.37M</td>\n",
       "      <td>8.37B</td>\n",
       "    </tr>\n",
       "  </tbody>\n",
       "</table>\n",
       "</div>"
      ],
      "text/plain": [
       "                                        CBA.AX        APT.AX        REA.AX  \\\n",
       "Attribute                                                                    \n",
       "Beta (5Y Monthly)                         0.68          1.97          1.01   \n",
       "52-Week Change 3                        42.05%        98.09%        48.65%   \n",
       "S&P500 52-Week Change 3                 33.06%        33.06%        33.06%   \n",
       "52 Week High 3                          106.57        160.05        173.11   \n",
       "52 Week Low 3                            62.64         55.30        102.60   \n",
       "50-Day Moving Average 3                  98.55         97.14        159.75   \n",
       "200-Day Moving Average 3                 88.71        116.31        150.31   \n",
       "Avg Vol (3 month) 3                      2.38M         1.47M       155.24k   \n",
       "Avg Vol (10 day) 3                       4.44M         1.54M        253.6k   \n",
       "Shares Outstanding 5                     1.77B       290.67M       132.12M   \n",
       "Implied Shares Outstanding 6               NaN       289.31M       132.03M   \n",
       "Float                                    1.77B       216.26M        50.07M   \n",
       "% Held by Insiders 1                     0.41%        35.84%        62.23%   \n",
       "% Held by Institutions 1                19.36%        35.00%         8.38%   \n",
       "Shares Short 4                             NaN           NaN           NaN   \n",
       "Short Ratio 4                              NaN           NaN           NaN   \n",
       "Short % of Float 4                         NaN           NaN           NaN   \n",
       "Short % of Shares Outstanding 4            NaN           NaN           NaN   \n",
       "Shares Short (prior month ) 4              NaN           NaN           NaN   \n",
       "Forward Annual Dividend Rate 4            2.48           NaN          1.18   \n",
       "Forward Annual Dividend Yield 4          2.53%           NaN         0.72%   \n",
       "Trailing Annual Dividend Rate 3           2.48           NaN          1.14   \n",
       "Trailing Annual Dividend Yield 3         2.53%           NaN         0.69%   \n",
       "5 Year Average Dividend Yield 4           5.31           NaN          1.21   \n",
       "Payout Ratio 4                          81.09%         0.00%       104.96%   \n",
       "Dividend Date 3                            NaN           NaN           NaN   \n",
       "Ex-Dividend Date 4                Feb 16, 2021           NaN  Mar 08, 2021   \n",
       "Last Split Factor 2                        1:1           NaN           1:1   \n",
       "Last Split Date 3                 Oct 06, 1999           NaN  May 15, 2006   \n",
       "Fiscal Year Ends                  Jun 30, 2020  Jun 30, 2020  Jun 30, 2020   \n",
       "Most Recent Quarter (mrq)         Dec 31, 2020  Dec 31, 2020  Dec 31, 2020   \n",
       "Profit Margin                           39.36%       -10.04%        15.75%   \n",
       "Operating Margin (ttm)                  50.22%         4.28%        47.20%   \n",
       "Return on Assets (ttm)                   0.67%         1.02%        15.43%   \n",
       "Return on Equity (ttm)                   9.28%        -5.49%        13.49%   \n",
       "Revenue (ttm)                           21.21B       670.93M        877.4M   \n",
       "Revenue Per Share (ttm)                  11.99          2.45          6.66   \n",
       "Quarterly Revenue Growth (yoy)          -2.50%       103.50%        -0.90%   \n",
       "Gross Profit (ttm)                       21.5B       342.26M       630.07M   \n",
       "EBITDA                                     NaN        40.81M       428.28M   \n",
       "Net Income Avi to Common (ttm)           6.78B       -67.37M       138.15M   \n",
       "Diluted EPS (ttm)                         4.50         -0.25          1.05   \n",
       "Quarterly Earnings Growth (yoy)        -20.80%           NaN        17.50%   \n",
       "Total Cash (mrq)                       117.14B       471.92M       179.85M   \n",
       "Total Cash Per Share (mrq)               66.09          1.67          1.36   \n",
       "Total Debt (mrq)                       241.28B       122.14M       324.06M   \n",
       "Total Debt/Equity (mrq)                    NaN          7.08         30.22   \n",
       "Current Ratio (mrq)                        NaN          8.20          0.81   \n",
       "Book Value Per Share (mrq)               42.32          6.11          7.50   \n",
       "Operating Cash Flow (ttm)              -11.03B      -418.66M       381.48M   \n",
       "Levered Free Cash Flow (ttm)               NaN      -393.02M       291.37M   \n",
       "\n",
       "                                        BHP.AX  \n",
       "Attribute                                       \n",
       "Beta (5Y Monthly)                         0.84  \n",
       "52-Week Change 3                        27.97%  \n",
       "S&P500 52-Week Change 3                 33.06%  \n",
       "52 Week High 3                           51.82  \n",
       "52 Week Low 3                            33.73  \n",
       "50-Day Moving Average 3                  48.64  \n",
       "200-Day Moving Average 3                 46.50  \n",
       "Avg Vol (3 month) 3                      5.32M  \n",
       "Avg Vol (10 day) 3                        7.9M  \n",
       "Shares Outstanding 5                     2.94B  \n",
       "Implied Shares Outstanding 6             5.06B  \n",
       "Float                                    5.01B  \n",
       "% Held by Insiders 1                     0.17%  \n",
       "% Held by Institutions 1                23.47%  \n",
       "Shares Short 4                             NaN  \n",
       "Short Ratio 4                              NaN  \n",
       "Short % of Float 4                         NaN  \n",
       "Short % of Shares Outstanding 4            NaN  \n",
       "Shares Short (prior month ) 4              NaN  \n",
       "Forward Annual Dividend Rate 4            2.07  \n",
       "Forward Annual Dividend Yield 4          4.33%  \n",
       "Trailing Annual Dividend Rate 3           1.56  \n",
       "Trailing Annual Dividend Yield 3         3.42%  \n",
       "5 Year Average Dividend Yield 4           4.18  \n",
       "Payout Ratio 4                          87.37%  \n",
       "Dividend Date 3                            NaN  \n",
       "Ex-Dividend Date 4                Mar 04, 2021  \n",
       "Last Split Factor 2                        2:1  \n",
       "Last Split Date 3                 Jun 29, 2001  \n",
       "Fiscal Year Ends                  Jun 30, 2020  \n",
       "Most Recent Quarter (mrq)         Dec 31, 2020  \n",
       "Profit Margin                           15.05%  \n",
       "Operating Margin (ttm)                  37.63%  \n",
       "Return on Assets (ttm)                  10.59%  \n",
       "Return on Equity (ttm)                  15.82%  \n",
       "Revenue (ttm)                           46.28B  \n",
       "Revenue Per Share (ttm)                   9.15  \n",
       "Quarterly Revenue Growth (yoy)          15.00%  \n",
       "Gross Profit (ttm)                      34.12B  \n",
       "EBITDA                                   23.1B  \n",
       "Net Income Avi to Common (ttm)           6.96B  \n",
       "Diluted EPS (ttm)                         1.79  \n",
       "Quarterly Earnings Growth (yoy)        -20.40%  \n",
       "Total Cash (mrq)                         9.46B  \n",
       "Total Cash Per Share (mrq)                1.87  \n",
       "Total Debt (mrq)                        23.36B  \n",
       "Total Debt/Equity (mrq)                  43.73  \n",
       "Current Ratio (mrq)                       1.42  \n",
       "Book Value Per Share (mrq)                9.67  \n",
       "Operating Cash Flow (ttm)               17.63B  \n",
       "Levered Free Cash Flow (ttm)             8.37B  "
      ]
     },
     "execution_count": 28,
     "metadata": {},
     "output_type": "execute_result"
    }
   ],
   "source": [
    "list = []\n",
    "for x in symbols:\n",
    "    list.append(si.get_stats(x))\n",
    "    stats = pd.concat(list, axis=1, join='outer')\n",
    "stats.index = stats['Attribute']\n",
    "stats = stats.drop(columns='Attribute')\n",
    "stats.columns = symbols\n",
    "stats.index = si.get_stats(symbols[0])['Attribute']\n",
    "stats"
   ]
  },
  {
   "cell_type": "markdown",
   "id": "b7ae3c3b",
   "metadata": {},
   "source": [
    "ベータ"
   ]
  },
  {
   "cell_type": "code",
   "execution_count": 28,
   "id": "f83e75eb",
   "metadata": {},
   "outputs": [],
   "source": [
    "end = dt.datetime.today()\n",
    "start = end - dt.timedelta(days=365)"
   ]
  },
  {
   "cell_type": "code",
   "execution_count": 29,
   "id": "2a93db00",
   "metadata": {},
   "outputs": [],
   "source": [
    "cba = si.get_data('CBA.AX', start_date=start, end_date=end)['adjclose'].pct_change().dropna()\n",
    "aord = si.get_data('^AORD', start_date=start, end_date=end)['adjclose'].pct_change().dropna()"
   ]
  },
  {
   "cell_type": "code",
   "execution_count": 30,
   "id": "34164c89",
   "metadata": {},
   "outputs": [],
   "source": [
    "cba = cba.values.reshape(-1, 1)\n",
    "aord = aord.values"
   ]
  },
  {
   "cell_type": "code",
   "execution_count": 31,
   "id": "d47569dc",
   "metadata": {},
   "outputs": [],
   "source": [
    "model = LinearRegression().fit(cba, aord)"
   ]
  },
  {
   "cell_type": "code",
   "execution_count": 32,
   "id": "ba0ce660",
   "metadata": {},
   "outputs": [
    {
     "data": {
      "text/plain": [
       "array([0.51591408])"
      ]
     },
     "execution_count": 32,
     "metadata": {},
     "output_type": "execute_result"
    }
   ],
   "source": [
    "model.coef_"
   ]
  },
  {
   "cell_type": "code",
   "execution_count": null,
   "id": "c1a6e782",
   "metadata": {},
   "outputs": [],
   "source": []
  }
 ],
 "metadata": {
  "kernelspec": {
   "display_name": "Python 3",
   "language": "python",
   "name": "python3"
  },
  "language_info": {
   "codemirror_mode": {
    "name": "ipython",
    "version": 3
   },
   "file_extension": ".py",
   "mimetype": "text/x-python",
   "name": "python",
   "nbconvert_exporter": "python",
   "pygments_lexer": "ipython3",
   "version": "3.6.7"
  }
 },
 "nbformat": 4,
 "nbformat_minor": 5
}
